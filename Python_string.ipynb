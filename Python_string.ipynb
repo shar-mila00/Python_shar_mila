{
  "nbformat": 4,
  "nbformat_minor": 0,
  "metadata": {
    "colab": {
      "provenance": [],
      "authorship_tag": "ABX9TyNE9brygG34LpVfnP+InhSU",
      "include_colab_link": true
    },
    "kernelspec": {
      "name": "python3",
      "display_name": "Python 3"
    },
    "language_info": {
      "name": "python"
    }
  },
  "cells": [
    {
      "cell_type": "markdown",
      "metadata": {
        "id": "view-in-github",
        "colab_type": "text"
      },
      "source": [
        "<a href=\"https://colab.research.google.com/github/shar-mila00/Python_shar_mila/blob/main/Python_string.ipynb\" target=\"_parent\"><img src=\"https://colab.research.google.com/assets/colab-badge.svg\" alt=\"Open In Colab\"/></a>"
      ]
    },
    {
      "cell_type": "code",
      "source": [
        "\"\"\"very important- join()\"\"\" #string_name.join(iterable) iterable- list, string, tuple, set, dictionary\n",
        "print('-'.join(\"forever\"))\n",
        "print('^'.join(\" forever \"))\n",
        "print('-'.join(\"lost you forever\"))\n",
        "print('# '.join(['lost', '', 'you', 'forever', 's2', '39', ''])) #will only join with string, no int/\n",
        "print(' '.join(['lost', 'you', 'forever', 's2', '39'])) #will only join with string, no int/\n",
        "\n",
        "print(\"-#-\".join(('lost','you', 'forever'))) #tuple\n",
        "print('#'.join({'lost','you', 'forever', 's2', '39'})) #set\n",
        "print('-'.join({'Geek': 1, 'For': 2, 'Geeks': 3})) #will join with keys only, keys must be string"
      ],
      "metadata": {
        "colab": {
          "base_uri": "https://localhost:8080/"
        },
        "id": "1L15r2qY-JIX",
        "outputId": "b9e9478d-7a60-4cb4-ad3b-0ba73639b00a"
      },
      "execution_count": null,
      "outputs": [
        {
          "output_type": "stream",
          "name": "stdout",
          "text": [
            "f-o-r-e-v-e-r\n",
            " ^f^o^r^e^v^e^r^ \n",
            "l-o-s-t- -y-o-u- -f-o-r-e-v-e-r\n",
            "lost# # you# forever# s2# 39# \n",
            "lost you forever s2 39\n",
            "lost-#-you-#-forever\n",
            "39#lost#forever#you#s2\n",
            "Geek-For-Geeks\n"
          ]
        }
      ]
    },
    {
      "cell_type": "code",
      "source": [
        "a= \"sunrise in her eyes\"\n",
        "print(a.count('s')) # Python String count() function returns the number of occurrences of a substring within a String.\n",
        "print('Sunrises'.count('S'))\n",
        "\n",
        "print(a.count('e', 7))\n",
        "print(a.count('e', 7, 15)) #count(substring, start, end) (up to end-1) by default, 0 to len(string)-1\n",
        "\n",
        "print(\"heart for heart\".count('heart'))\n",
        "print(\"heart for heart\".count('heart', 0, 4))\n",
        "print(\"heart for heart\".count('heart', 0, 5))"
      ],
      "metadata": {
        "colab": {
          "base_uri": "https://localhost:8080/"
        },
        "id": "JAdQogKiKxGG",
        "outputId": "f6e90f62-87c9-4ea1-8a3a-0d70b7abf043"
      },
      "execution_count": null,
      "outputs": [
        {
          "output_type": "stream",
          "name": "stdout",
          "text": [
            "3\n",
            "1\n",
            "3\n",
            "1\n",
            "2\n",
            "0\n",
            "1\n"
          ]
        }
      ]
    },
    {
      "cell_type": "code",
      "source": [
        "strings = [\"Red\", \"Green\", \"orange\"]\n",
        "char_to_count = 'e'\n",
        "total_count = sum(string.count(char_to_count) for string in strings)\n",
        "print(total_count)"
      ],
      "metadata": {
        "colab": {
          "base_uri": "https://localhost:8080/"
        },
        "id": "0a9ISsNajRWz",
        "outputId": "fd28dbb5-244a-4820-8f8b-c5a1f30a0988"
      },
      "execution_count": null,
      "outputs": [
        {
          "output_type": "stream",
          "name": "stdout",
          "text": [
            "4\n"
          ]
        }
      ]
    },
    {
      "cell_type": "code",
      "source": [
        "v= \"# These minefields are what I walk through#\"\n",
        "print(v.strip(\" #\")) #returns a copy of the string with both leading and trailing characters removed\n",
        "print(v.strip(\" are\"))\n",
        "print(\" mine@ \".strip(\"@e \"))"
      ],
      "metadata": {
        "id": "LjDhjyi4v-w9",
        "colab": {
          "base_uri": "https://localhost:8080/"
        },
        "outputId": "292a6814-512f-4399-fb6d-922b0318d4d5"
      },
      "execution_count": null,
      "outputs": [
        {
          "output_type": "stream",
          "name": "stdout",
          "text": [
            "These minefields are what I walk through\n",
            "# These minefields are what I walk through#\n",
            "min\n"
          ]
        }
      ]
    },
    {
      "cell_type": "code",
      "source": [
        "print(\"  princess\".lstrip()) #leading characters removes (based on the string argument passed), If no argument, it removes leading spaces.\n",
        "print(\" princess\".lstrip(\"pr\")) #string.lstrip(characters)\n",
        "print(\"princess\".lstrip(\"pric\"))\n",
        "print(\" * princess\".lstrip(\"* p\"))\n",
        "print(\"princess\".lstrip(\"rin\")) #won't remove any if leading character not passed\n"
      ],
      "metadata": {
        "colab": {
          "base_uri": "https://localhost:8080/"
        },
        "id": "6NlROv0aZGQN",
        "outputId": "be03eaee-34a2-43b5-f71f-ec22e872c49d"
      },
      "execution_count": null,
      "outputs": [
        {
          "output_type": "stream",
          "name": "stdout",
          "text": [
            "princess\n",
            " princess\n",
            "ncess\n",
            "rincess\n",
            "princess\n"
          ]
        }
      ]
    },
    {
      "cell_type": "code",
      "execution_count": null,
      "metadata": {
        "colab": {
          "base_uri": "https://localhost:8080/"
        },
        "id": "uotjSiB9r66M",
        "outputId": "4d513612-076c-42d4-b55c-447754adc4aa"
      },
      "outputs": [
        {
          "output_type": "stream",
          "name": "stdout",
          "text": [
            "DANCING IN THE LONELINESS\n",
            "Dancing in the loneliness\n",
            "Dancing In The Loneliness\n",
            "Don'T Smoke\n"
          ]
        }
      ],
      "source": [
        "s= \"dancing in the loneliness\"\n",
        "print(s.upper())\n",
        "print(s.capitalize()) #only capitalize first letter\n",
        "print(s.title()) #capitalize first letter of every word - Title\n",
        "\n",
        "print(\"don't smoke\".title()) # non-alphabetic character is considered as the start of a new word"
      ]
    },
    {
      "cell_type": "code",
      "source": [
        "print(\"WAR\".isupper())\n",
        "print(\"WAR#\".isupper())\n",
        "print(\" WAR\".isupper())\n",
        "print(\"WaR\".isupper())\n",
        "print(\"_WAR\".isupper())"
      ],
      "metadata": {
        "colab": {
          "base_uri": "https://localhost:8080/"
        },
        "id": "tiAMDv5T5apW",
        "outputId": "d363d015-d3a9-4f97-e9fb-060b0105a757"
      },
      "execution_count": null,
      "outputs": [
        {
          "output_type": "stream",
          "name": "stdout",
          "text": [
            "True\n",
            "True\n",
            "True\n",
            "False\n",
            "True\n"
          ]
        }
      ]
    },
    {
      "cell_type": "code",
      "source": [
        "print(\"Minefield\".istitle())\n",
        "print(\"MINE\".istitle())\n",
        "print(\"Minefield CRossing\".istitle())\n",
        "print(\"23 Is My Roll\".istitle())"
      ],
      "metadata": {
        "colab": {
          "base_uri": "https://localhost:8080/"
        },
        "id": "UkMv31xr8_AI",
        "outputId": "29a84e59-1ffc-4c71-ffdc-6556c4d6e725"
      },
      "execution_count": null,
      "outputs": [
        {
          "output_type": "stream",
          "name": "stdout",
          "text": [
            "True\n",
            "False\n",
            "False\n",
            "True\n"
          ]
        }
      ]
    },
    {
      "cell_type": "code",
      "source": [
        "print(\"WE ARE 1\".title())\n",
        "print(\"he's smart\".title(), end=', ')\n",
        "print(\"Expected: He's Smart\")\n",
        "print(\"i-want-it\".title())"
      ],
      "metadata": {
        "colab": {
          "base_uri": "https://localhost:8080/"
        },
        "id": "LJtKUdKl7CYY",
        "outputId": "f2ee2c4e-e352-4053-96d4-8d6ff801dca3"
      },
      "execution_count": null,
      "outputs": [
        {
          "output_type": "stream",
          "name": "stdout",
          "text": [
            "We Are 1\n",
            "He'S Smart, Expected: He's Smart\n",
            "I-Want-It\n"
          ]
        }
      ]
    },
    {
      "cell_type": "code",
      "source": [
        "s1= \"Let Me walK upon tHe WateR 2\"\n",
        "print(s1.lower())\n",
        "print(s1.casefold())\n",
        "\n",
        "print(\"*ß\".casefold())\n",
        "print(\"*ß\".lower())"
      ],
      "metadata": {
        "colab": {
          "base_uri": "https://localhost:8080/"
        },
        "id": "QRwajAcLASsi",
        "outputId": "054606f7-7a92-4e09-9ccd-33809a9cbd4c"
      },
      "execution_count": null,
      "outputs": [
        {
          "output_type": "stream",
          "name": "stdout",
          "text": [
            "let me walk upon the water 2\n",
            "let me walk upon the water 2\n",
            "*ss\n",
            "*ß\n"
          ]
        }
      ]
    },
    {
      "cell_type": "code",
      "source": [
        "print(\"war\".islower())\n",
        "print(\"war#\".islower())\n",
        "print(\" ar\".islower())\n",
        "print(\"War\".islower())\n",
        "print(\"_war\".islower())"
      ],
      "metadata": {
        "colab": {
          "base_uri": "https://localhost:8080/"
        },
        "id": "RrrHlj7b3ron",
        "outputId": "16fe4022-d030-4931-9a82-a0d8f0c2434b"
      },
      "execution_count": null,
      "outputs": [
        {
          "output_type": "stream",
          "name": "stdout",
          "text": [
            "True\n",
            "True\n",
            "True\n",
            "False\n",
            "True\n"
          ]
        }
      ]
    },
    {
      "cell_type": "code",
      "source": [
        "a= \"sunrise in her eyes\" #Syntax:  string.center(length[, fillchar])\n",
        "print(a)\n",
        "print(a.center(25)) #length: length of the string after padding with the characters.\n",
        "\n",
        "print(a.center(25, '#')) #fillchar: (optional) characters which need to be padded. If it’s not provided, space is taken as the default argument.\n",
        "print(a.center(26, '!'))\n",
        "\n",
        "print(a.center(12, '@')) #center() Method with length argument value less than original String length\n"
      ],
      "metadata": {
        "colab": {
          "base_uri": "https://localhost:8080/"
        },
        "id": "8Bx2aOnSILzZ",
        "outputId": "4c665667-3cea-419a-e960-d02198263b91"
      },
      "execution_count": null,
      "outputs": [
        {
          "output_type": "stream",
          "name": "stdout",
          "text": [
            "sunrise in her eyes\n",
            "   sunrise in her eyes   \n",
            "###sunrise in her eyes###\n",
            "!!!sunrise in her eyes!!!!\n",
            "sunrise in her eyes\n"
          ]
        }
      ]
    },
    {
      "cell_type": "code",
      "source": [
        "h= int(input())\n",
        "print(True if h != 1 else False)"
      ],
      "metadata": {
        "colab": {
          "base_uri": "https://localhost:8080/"
        },
        "id": "_sIhLUZujv2I",
        "outputId": "60ad32e9-afd6-455a-87df-b9ae32e51cf9"
      },
      "execution_count": null,
      "outputs": [
        {
          "output_type": "stream",
          "name": "stdout",
          "text": [
            "1\n",
            "False\n"
          ]
        }
      ]
    },
    {
      "cell_type": "code",
      "source": [
        "s= \"dancing in the loneliness\"\n",
        "print(s.endswith('ess')) #Syntax: str.endswith(suffix, start, end)\n",
        "print(s.endswith('ess', 5)) #suffix, start, end- by default to the last+1\n",
        "print(s.endswith('ess', 5, 15))\n",
        "\n",
        "r= \"lovesickness.\"\n",
        "print(r.endswith('ess'))\n",
        "print(r.endswith('ess.'))\n",
        "print(r.endswith('ess.', 5, 11))"
      ],
      "metadata": {
        "id": "AUPLL6MMkXFU",
        "colab": {
          "base_uri": "https://localhost:8080/"
        },
        "outputId": "cd04f2ff-8af0-421f-b40d-db8dc5b45a1a"
      },
      "execution_count": null,
      "outputs": [
        {
          "output_type": "stream",
          "name": "stdout",
          "text": [
            "True\n",
            "True\n",
            "False\n",
            "False\n",
            "True\n",
            "False\n"
          ]
        }
      ]
    },
    {
      "cell_type": "code",
      "source": [
        "s= \"dancing\\tin\\tthe\\tloneliness\"\n",
        "print(\"dancing in the loneliness\")\n",
        "print(s)\n",
        "print(s.expandtabs())  #Syntax : expandtabs(space_size) #space_size can't be a float\n",
        "print(s.expandtabs(-1))  #tabsize : Specifies the space that is to be replaced with the “\\t” symbol in the string. By default the space is 8.\n",
        "print(s.expandtabs(1))\n",
        "print(s.expandtabs(-11))\n",
        "print(s.expandtabs(11))"
      ],
      "metadata": {
        "colab": {
          "base_uri": "https://localhost:8080/"
        },
        "id": "w0tWPmBLMzEV",
        "outputId": "17e82db2-3a4a-4c21-a970-19cb827fce74"
      },
      "execution_count": null,
      "outputs": [
        {
          "output_type": "stream",
          "name": "stdout",
          "text": [
            "dancing in the loneliness\n",
            "dancing\tin\tthe\tloneliness\n",
            "dancing in      the     loneliness\n",
            "dancingintheloneliness\n",
            "dancing in the loneliness\n",
            "dancingintheloneliness\n",
            "dancing    in         the        loneliness\n"
          ]
        }
      ]
    },
    {
      "cell_type": "code",
      "source": [
        "print"
      ],
      "metadata": {
        "colab": {
          "base_uri": "https://localhost:8080/"
        },
        "id": "oaFQJYpkRxv1",
        "outputId": "38f048a0-9623-4e94-b9cd-b8d0ac9f595a"
      },
      "execution_count": null,
      "outputs": [
        {
          "output_type": "execute_result",
          "data": {
            "text/plain": [
              "<function print>"
            ]
          },
          "metadata": {},
          "execution_count": 23
        }
      ]
    },
    {
      "cell_type": "code",
      "source": [
        "line= \"if your heart is in agony, my heart too feels it\"\n",
        "print(line.find('heart')) #Returns the lowest index of the substring if it is found in a given string. If it’s not found then it returns -1\n",
        "print(line.find('heart', 10))\n",
        "print(line.find('heart', 10, 25)) #str_obj.find(substring, start, end)\n",
        "print(line.find('agony, '))\n",
        "print(line.find('o', 6))\n",
        "\n",
        "string_index=0\n",
        "count=0\n",
        "sub= 'heart'\n",
        "for i in range(len(line)):\n",
        "    j= line.find(sub, string_index)\n",
        "    if j != -1:\n",
        "        string_index= j+1\n",
        "        count+=1\n",
        "print(count)"
      ],
      "metadata": {
        "colab": {
          "base_uri": "https://localhost:8080/"
        },
        "id": "pXG4jvyg5kn4",
        "outputId": "d096afba-2d41-4e16-87da-5996d86d20b5"
      },
      "execution_count": null,
      "outputs": [
        {
          "output_type": "stream",
          "name": "stdout",
          "text": [
            "8\n",
            "30\n",
            "-1\n",
            "20\n",
            "22\n",
            "2\n"
          ]
        }
      ]
    },
    {
      "cell_type": "code",
      "source": [
        "print(\"minefields\".index(\"nef\")) #the index of the first occurrence of an existing substring\n",
        "print(\"minefields\".index(\"nef\",2))#(sunstring, start, end)\n",
        "print(\"minefields\".index(\"eld\", -4, -1))\n",
        "print(\"minefields\".index(\"nef\",3)) #error if not found\n"
      ],
      "metadata": {
        "colab": {
          "base_uri": "https://localhost:8080/",
          "height": 228
        },
        "id": "ZYF5yfN1e7Yo",
        "outputId": "888a1b08-f9a0-44df-8e2c-f8f2c8076697"
      },
      "execution_count": null,
      "outputs": [
        {
          "output_type": "stream",
          "name": "stdout",
          "text": [
            "2\n",
            "2\n",
            "6\n"
          ]
        },
        {
          "output_type": "error",
          "ename": "ValueError",
          "evalue": "substring not found",
          "traceback": [
            "\u001b[0;31m---------------------------------------------------------------------------\u001b[0m",
            "\u001b[0;31mValueError\u001b[0m                                Traceback (most recent call last)",
            "\u001b[0;32m<ipython-input-37-8d815b85bf87>\u001b[0m in \u001b[0;36m<cell line: 4>\u001b[0;34m()\u001b[0m\n\u001b[1;32m      2\u001b[0m \u001b[0mprint\u001b[0m\u001b[0;34m(\u001b[0m\u001b[0;34m\"minefields\"\u001b[0m\u001b[0;34m.\u001b[0m\u001b[0mindex\u001b[0m\u001b[0;34m(\u001b[0m\u001b[0;34m\"nef\"\u001b[0m\u001b[0;34m,\u001b[0m\u001b[0;36m2\u001b[0m\u001b[0;34m)\u001b[0m\u001b[0;34m)\u001b[0m\u001b[0;31m#(sunstring, start, end)\u001b[0m\u001b[0;34m\u001b[0m\u001b[0;34m\u001b[0m\u001b[0m\n\u001b[1;32m      3\u001b[0m \u001b[0mprint\u001b[0m\u001b[0;34m(\u001b[0m\u001b[0;34m\"minefields\"\u001b[0m\u001b[0;34m.\u001b[0m\u001b[0mindex\u001b[0m\u001b[0;34m(\u001b[0m\u001b[0;34m\"eld\"\u001b[0m\u001b[0;34m,\u001b[0m \u001b[0;34m-\u001b[0m\u001b[0;36m4\u001b[0m\u001b[0;34m,\u001b[0m \u001b[0;34m-\u001b[0m\u001b[0;36m1\u001b[0m\u001b[0;34m)\u001b[0m\u001b[0;34m)\u001b[0m\u001b[0;34m\u001b[0m\u001b[0;34m\u001b[0m\u001b[0m\n\u001b[0;32m----> 4\u001b[0;31m \u001b[0mprint\u001b[0m\u001b[0;34m(\u001b[0m\u001b[0;34m\"minefields\"\u001b[0m\u001b[0;34m.\u001b[0m\u001b[0mindex\u001b[0m\u001b[0;34m(\u001b[0m\u001b[0;34m\"nef\"\u001b[0m\u001b[0;34m,\u001b[0m\u001b[0;36m3\u001b[0m\u001b[0;34m)\u001b[0m\u001b[0;34m)\u001b[0m \u001b[0;31m#error if not found\u001b[0m\u001b[0;34m\u001b[0m\u001b[0;34m\u001b[0m\u001b[0m\n\u001b[0m",
            "\u001b[0;31mValueError\u001b[0m: substring not found"
          ]
        }
      ]
    },
    {
      "cell_type": "code",
      "source": [
        "k= \"These minefields that I walk through\"\n",
        "k_list= [\"minefields\", \"I\", \"walk\", \"risk\"]\n",
        "for i in k_list:\n",
        "    if i in k:\n",
        "        print(k.index(i))\n",
        "    else:\n",
        "        print(\"Not found\")\n",
        "\n",
        "print([k.index(i) if i in k else \"Not found\" for i in k_list])"
      ],
      "metadata": {
        "colab": {
          "base_uri": "https://localhost:8080/"
        },
        "id": "k82d1yAbfrHU",
        "outputId": "850e33f5-7af8-47c3-e83b-7aee9225fa66"
      },
      "execution_count": null,
      "outputs": [
        {
          "output_type": "stream",
          "name": "stdout",
          "text": [
            "6\n",
            "22\n",
            "24\n",
            "Not found\n",
            "[6, 22, 24, 'Not found']\n"
          ]
        }
      ]
    },
    {
      "cell_type": "code",
      "source": [
        "k= \"These minefields that I walk through\"\n",
        "k_tuple= (\"minefields\", \"I\", \"walk\", \"risk\")\n",
        "for i in k_tuple:\n",
        "    try:\n",
        "        in_dex= k.index(i)\n",
        "        print(f\"index of {i} is {in_dex}\")\n",
        "    except:\n",
        "        print(\"{} not found\".format(i))\n"
      ],
      "metadata": {
        "colab": {
          "base_uri": "https://localhost:8080/"
        },
        "id": "HEYxEi1dnW1r",
        "outputId": "9049985a-3c9b-42d9-9f67-f88c01e89e75"
      },
      "execution_count": null,
      "outputs": [
        {
          "output_type": "stream",
          "name": "stdout",
          "text": [
            "index of minefields is 6\n",
            "index of I is 22\n",
            "index of walk is 24\n",
            "risk not found\n"
          ]
        }
      ]
    },
    {
      "cell_type": "code",
      "source": [
        "\"\"\"formatting string\"\"\"\n",
        "name= \"Eddie\"\n",
        "age= 12\n",
        "print(\"{} is only {} years old\".format(name, age)) #Syntax : { } { } .format(value1, value2)\n",
        "\n",
        "print(\"Learn {1} and dive into {0} {2}\".format('Artificial', 'Python', 'Intellegence')) #{0} {1}.format(positional_argument, keyword_argument)\n",
        "print(\"{gfg} is a {0} science portal for {1}\".format(\"computer\", \"geeks\", gfg=\"GeeksforGeeks\"))\n"
      ],
      "metadata": {
        "id": "Orwag56689E2",
        "colab": {
          "base_uri": "https://localhost:8080/"
        },
        "outputId": "c8f78516-6fe3-4fb7-d516-2230aba54c2e"
      },
      "execution_count": null,
      "outputs": [
        {
          "output_type": "stream",
          "name": "stdout",
          "text": [
            "Eddie is only 12 years old\n",
            "Learn Python and dive into Artificial Intellegence\n",
            "GeeksforGeeks is a computer science portal for geeks\n"
          ]
        }
      ]
    },
    {
      "cell_type": "code",
      "source": [
        "\"\"\"modulo string formatting\"\"\"\n",
        "name= \"Amazon\"\n",
        "name1= \"Google\"\n",
        "name2= \"Facebook\"\n",
        "n= 3\n",
        "print(\"One of %d big tech giants are %s, %s and %s\" % (n, name, name1, name2)) #%s- string, %i/d- signed decimal integer\n",
        "\n",
        "price= 45.67\n",
        "print(\"It costs %d $ only\" % (price)) # %f- float, %b- binary, %o- octal, %u- unsigned decimal integer,\n",
        "print(\"It costs %f $ only\" % (price))\n",
        "print(\"It costs %.0f $ only\" % (price))\n",
        "print(\"It costs %.2f $ only\" % (price))"
      ],
      "metadata": {
        "colab": {
          "base_uri": "https://localhost:8080/"
        },
        "id": "9JEqxImAWkHQ",
        "outputId": "ff5bd3a9-c003-47fb-fe7b-7ea39880a404"
      },
      "execution_count": null,
      "outputs": [
        {
          "output_type": "stream",
          "name": "stdout",
          "text": [
            "One of 3 big tech giants are Amazon, Google and Facebook\n",
            "It costs 45 $ only\n",
            "It costs 45.670000 $ only\n",
            "It costs 46 $ only\n",
            "It costs 45.67 $ only\n"
          ]
        }
      ]
    },
    {
      "cell_type": "code",
      "source": [
        "\"\"\"formatting symbol\"\"\"\n",
        "print(\"This site is {0:.3f}% securely {1}!!\".format(100, \"encrypted\")) #Syntax : String {field_name:conversion} Example.format(value)\n",
        "\n",
        "print(\"My average of this {} was {:.0f}%\".format(\"semester\", 78.534876))\n",
        "\n",
        "print(\"The {} of 100 is {:b}\".format(\"binary\", 100)) #no float\n",
        "print(\"The {0} of 100 is {1:o}\".format(\"octal\", 100))\n",
        "print(\"The {0} of 45 is {1:x}\".format(\"hexadecimal\", 200)) #%x- hexadecimal (lowercase after 9)\n",
        "\n",
        "print(\"The {0} of 300 is {1:X}\".format(\"Hexadecimal\", 200)) ##%X- hexadecimal (uppercase after 9)"
      ],
      "metadata": {
        "colab": {
          "base_uri": "https://localhost:8080/"
        },
        "id": "BVipOT4KgQ_8",
        "outputId": "0ada6fcc-81b7-4d5d-c307-1718d2efb31c"
      },
      "execution_count": null,
      "outputs": [
        {
          "output_type": "stream",
          "name": "stdout",
          "text": [
            "This site is 100.000% securely encrypted!!\n",
            "My average of this semester was 8e+01%\n",
            "The binary of 100 is 1100100\n",
            "The octal of 100 is 144\n",
            "The hexadecimal of 45 is c8\n",
            "The Hexadecimal of 300 is C8\n"
          ]
        }
      ]
    },
    {
      "cell_type": "code",
      "source": [
        "\"\"\"Padding Substitutions or Generating Spaces\"\"\"\n",
        "l= [3, 45, 7, 88, 200, 56, 34, 2]\n",
        "\n",
        "for i in l:\n",
        "    print(\"The number is {:0>3d}\".format(i)) #right align"
      ],
      "metadata": {
        "colab": {
          "base_uri": "https://localhost:8080/"
        },
        "id": "PkIT6saRjvVk",
        "outputId": "05328789-29f8-40b2-90a6-31831909cb09"
      },
      "execution_count": null,
      "outputs": [
        {
          "output_type": "stream",
          "name": "stdout",
          "text": [
            "The number is 003\n",
            "The number is 045\n",
            "The number is 007\n",
            "The number is 088\n",
            "The number is 200\n",
            "The number is 056\n",
            "The number is 034\n",
            "The number is 002\n"
          ]
        }
      ]
    },
    {
      "cell_type": "code",
      "source": [
        "\"\"\"Padding Substitutions or Generating Spaces\"\"\"\n",
        "l= [3, 45, 7, 88, 200, 56, 34, 2.1]\n",
        "\n",
        "for i in l:\n",
        "    print(\"{:<7} {:<7} {:<7}\".format(i, i**2, i**3)) #left align"
      ],
      "metadata": {
        "colab": {
          "base_uri": "https://localhost:8080/"
        },
        "id": "LyNDbt1yyVqd",
        "outputId": "68e2601f-896a-4fc5-bc50-8fcd058e0978"
      },
      "execution_count": null,
      "outputs": [
        {
          "output_type": "stream",
          "name": "stdout",
          "text": [
            "3       9       27     \n",
            "45      2025    91125  \n",
            "7       49      343    \n",
            "88      7744    681472 \n",
            "200     40000   8000000\n",
            "56      3136    175616 \n",
            "34      1156    39304  \n",
            "2.1     4.41    9.261000000000001\n"
          ]
        }
      ]
    },
    {
      "cell_type": "code",
      "source": [
        "\"\"\"Padding Substitutions or Generating Spaces\"\"\"\n",
        "l= [3, 45, 7, 88, 200, 56, 34, 2.1]\n",
        "\n",
        "for i in l:\n",
        "    print(\"{:7} {:7} {:7}\".format(i, i**2, i**3)) #by default, right align"
      ],
      "metadata": {
        "colab": {
          "base_uri": "https://localhost:8080/"
        },
        "id": "2WMgxFFcUbVM",
        "outputId": "51ca5207-f71e-4f09-b199-169ffbad86a5"
      },
      "execution_count": null,
      "outputs": [
        {
          "output_type": "stream",
          "name": "stdout",
          "text": [
            "      3       9      27\n",
            "     45    2025   91125\n",
            "      7      49     343\n",
            "     88    7744  681472\n",
            "    200   40000 8000000\n",
            "     56    3136  175616\n",
            "     34    1156   39304\n",
            "    2.1    4.41 9.261000000000001\n"
          ]
        }
      ]
    },
    {
      "cell_type": "code",
      "source": [
        "print(f\"{44:.5f} {4.6:.5f}\")\n",
        "print(f\"{44.56:.4} {4.6:.0f}\")\n",
        "print(f\"{44.56:.0} {4.6:.0}\")"
      ],
      "metadata": {
        "colab": {
          "base_uri": "https://localhost:8080/"
        },
        "id": "UgOaekEATa_l",
        "outputId": "bfdbc325-e5d1-4cfa-a23c-830ed1b74b4a"
      },
      "execution_count": null,
      "outputs": [
        {
          "output_type": "stream",
          "name": "stdout",
          "text": [
            "44.00000 4.60000\n",
            "44.56 5\n",
            "4e+01 5e+00\n"
          ]
        }
      ]
    },
    {
      "cell_type": "code",
      "source": [
        "\"\"\"Padding Substitutions or Generating Spaces\"\"\"\n",
        "l= [3, 45, 7, 88, 200, 56, 34, 2]\n",
        "\n",
        "for i in l:\n",
        "    print(\"{:<4}\".format(i)) #left align"
      ],
      "metadata": {
        "colab": {
          "base_uri": "https://localhost:8080/"
        },
        "id": "1BDZP9i8gRAn",
        "outputId": "e0d46ac9-90b2-4144-c191-a203874a4a71"
      },
      "execution_count": null,
      "outputs": [
        {
          "output_type": "stream",
          "name": "stdout",
          "text": [
            "3   \n",
            "45  \n",
            "7   \n",
            "88  \n",
            "200 \n",
            "56  \n",
            "34  \n",
            "2   \n"
          ]
        }
      ]
    },
    {
      "cell_type": "code",
      "source": [
        "\"\"\"Padding Substitutions or Generating Spaces\"\"\"\n",
        "l= [3, 45, 7, 88, 200, 56, 34, 2]\n",
        "\n",
        "for i in l:\n",
        "    print(\"The number is {:^3}\".format(i)) #center"
      ],
      "metadata": {
        "colab": {
          "base_uri": "https://localhost:8080/"
        },
        "id": "xVVyMK8Xxd0n",
        "outputId": "10f75e41-4342-4cca-9c27-083781011e2d"
      },
      "execution_count": null,
      "outputs": [
        {
          "output_type": "stream",
          "name": "stdout",
          "text": [
            "The number is  3 \n",
            "The number is 45 \n",
            "The number is  7 \n",
            "The number is 88 \n",
            "The number is 200\n",
            "The number is 56 \n",
            "The number is 34 \n",
            "The number is  2 \n"
          ]
        }
      ]
    },
    {
      "cell_type": "code",
      "source": [
        "a_dict= {'x': 'Erina', 'y': 'Gomez'} #string.format_map(z)\n",
        "\n",
        "#Here z is a variable in which the input dictionary is stored and string is the key of the input dictionary. input_dict: Takes a single parameter which is the input dictionary.\n",
        "#Returns key’s values of the input dictionary.\n",
        "\n",
        "print(\"{x}'s last name is {y}\".format_map(a_dict))\n",
        "print(a_dict['x']) #returns value"
      ],
      "metadata": {
        "colab": {
          "base_uri": "https://localhost:8080/"
        },
        "id": "Rni4AQpuaTpZ",
        "outputId": "6fa6f4b4-935c-4ee3-e0c6-0960998fe7c5"
      },
      "execution_count": null,
      "outputs": [
        {
          "output_type": "stream",
          "name": "stdout",
          "text": [
            "Erina's last name is Gomez\n",
            "Erina\n"
          ]
        }
      ]
    },
    {
      "cell_type": "code",
      "source": [
        "def chk_msg(n):\n",
        "\n",
        "    # input stored in variable a.\n",
        "    a = {'name':\"George\", 'mesg':n}\n",
        "\n",
        "    # use of format_map() function\n",
        "    print('{name} has {mesg} new messages'.format_map(a))\n",
        "\n",
        "chk_msg(10)"
      ],
      "metadata": {
        "colab": {
          "base_uri": "https://localhost:8080/"
        },
        "id": "lti1SJpHbM4L",
        "outputId": "72247977-f6be-47af-99b0-924679dc58c1"
      },
      "execution_count": null,
      "outputs": [
        {
          "output_type": "stream",
          "name": "stdout",
          "text": [
            "George has 10 new messages\n"
          ]
        }
      ]
    },
    {
      "cell_type": "code",
      "source": [
        "# Input dictionary\n",
        "profession = { 'name':['Barry', 'Bruce'],\n",
        "\t\t\t'profession':['Engineer', 'Doctor'],\n",
        "\t\t\t'age':[30, 31] }\n",
        "\n",
        "# Use of format_map() function\n",
        "print('{name[0]} is an {profession[0]} and he'\n",
        "\t' is {age[0]} years old.'.format_map(profession))\n",
        "\n",
        "print('{name[1]} is an {profession[1]} and he'\n",
        "\t' is {age[1]} years old.'.format_map(profession))\n",
        "print(profession['name'])"
      ],
      "metadata": {
        "colab": {
          "base_uri": "https://localhost:8080/"
        },
        "id": "BV6_Wx0JckfL",
        "outputId": "a9fcba2a-5761-4890-e140-4bc002fbea52"
      },
      "execution_count": null,
      "outputs": [
        {
          "output_type": "stream",
          "name": "stdout",
          "text": [
            "Barry is an Engineer and he is 30 years old.\n",
            "Bruce is an Doctor and he is 31 years old.\n",
            "['Barry', 'Bruce']\n"
          ]
        }
      ]
    },
    {
      "cell_type": "code",
      "source": [
        "print(\"Aanb34\".isalnum())\n",
        "print(\"Aanb 345\".isalnum())\n",
        "print(\"3456\".isalnum())\n",
        "print(\"lo\".isalnum() #alphanumeric)"
      ],
      "metadata": {
        "colab": {
          "base_uri": "https://localhost:8080/"
        },
        "id": "g6C5D1_6roTm",
        "outputId": "2cf2a877-6427-403d-ff08-3f1725410efe"
      },
      "execution_count": null,
      "outputs": [
        {
          "output_type": "stream",
          "name": "stdout",
          "text": [
            "True\n",
            "False\n",
            "True\n",
            "True\n"
          ]
        }
      ]
    },
    {
      "cell_type": "code",
      "source": [
        "print(\"Arnab\".isalpha())\n",
        "print(\"EERER\".isalpha())\n",
        "print(\"akds9hj\".isalpha()) #alphabet"
      ],
      "metadata": {
        "colab": {
          "base_uri": "https://localhost:8080/"
        },
        "id": "G01PjErBsKTm",
        "outputId": "e4fd1bc6-864a-4943-ec25-c8566db5394b"
      },
      "execution_count": null,
      "outputs": [
        {
          "output_type": "stream",
          "name": "stdout",
          "text": [
            "True\n",
            "True\n",
            "False\n"
          ]
        }
      ]
    },
    {
      "cell_type": "code",
      "source": [
        "print(\"100\".isdecimal())\n",
        "print(\"100.90\".isdecimal()) #only integer\n",
        "print(str(5/3).isdecimal())\n",
        "print(str(5//3).isdecimal())\n",
        "print(\"100BD\".isdecimal())"
      ],
      "metadata": {
        "id": "uvWVOrksskE2",
        "colab": {
          "base_uri": "https://localhost:8080/"
        },
        "outputId": "7a272aa2-f3a6-4525-cf78-d7f0a92c037a"
      },
      "execution_count": null,
      "outputs": [
        {
          "output_type": "stream",
          "name": "stdout",
          "text": [
            "True\n",
            "False\n",
            "False\n",
            "True\n",
            "False\n"
          ]
        }
      ]
    },
    {
      "cell_type": "code",
      "source": [
        "\"\"\"isdecimal vs isdigit\"\"\"\n",
        "expr = \"4²\"\n",
        "print(\"expr isdigit()?\", expr.isdigit()) #true\n",
        "\n",
        "print(\"expr isdecimal()?\", expr.isdecimal())\n",
        "\n",
        "print(\"45.89\".isdigit()) #only integer\n",
        "print(str(5**0.5).isdecimal())\n",
        "print(str(5**0.5).isdigit())\n",
        "print(str(5/2).isdigit())\n",
        "\n",
        "s = '\\u00B23455' #'²3455' (superscript & subscript are written in unicode)\n",
        "\n",
        "print(s.isdigit())\n",
        "s = '\\u00BD' ##'½' fraction is not a digit\n",
        "\n",
        "print(s.isdigit())"
      ],
      "metadata": {
        "colab": {
          "base_uri": "https://localhost:8080/"
        },
        "id": "1lrY-ScoMW_9",
        "outputId": "30c6b799-78c8-4c86-cdee-6e7f8c20e390"
      },
      "execution_count": null,
      "outputs": [
        {
          "output_type": "stream",
          "name": "stdout",
          "text": [
            "expr isdigit()? True\n",
            "expr isdecimal()? False\n",
            "False\n",
            "False\n",
            "False\n",
            "False\n",
            "True\n",
            "False\n"
          ]
        }
      ]
    },
    {
      "cell_type": "code",
      "source": [
        "\"\"\"isdecimal vs isnumeric\"\"\"\n",
        "expr = \"⅔\"\n",
        "print(\"expr isnumeric()?\", expr.isnumeric())\n",
        "\n",
        "print(\"expr isdecimal()?\", expr.isdecimal())\n",
        "\n",
        "print(\"45.990\".isnumeric())\n",
        "print(str(5/2).isnumeric())"
      ],
      "metadata": {
        "colab": {
          "base_uri": "https://localhost:8080/"
        },
        "id": "Ovv3fNKduEYT",
        "outputId": "a0f61bb3-6f4d-4625-e962-10abac165292"
      },
      "execution_count": null,
      "outputs": [
        {
          "output_type": "stream",
          "name": "stdout",
          "text": [
            "expr isnumeric()? True\n",
            "expr isdecimal()? False\n",
            "False\n",
            "False\n"
          ]
        }
      ]
    },
    {
      "cell_type": "code",
      "source": [
        "# isnumeric() returns an error if a parameter is passed\n",
        "String = \"1234567\"\n",
        "\n",
        "try:\n",
        "\tString.isnumeric(\"abc\")\n",
        "except TypeError:\n",
        "\tprint(\"TypeError: isnumeric() takes no arguments (1 given)\")\n"
      ],
      "metadata": {
        "colab": {
          "base_uri": "https://localhost:8080/"
        },
        "id": "mvSHaYpUx3G1",
        "outputId": "bf154cb1-c7b4-4244-9537-d4326441a8ec"
      },
      "execution_count": null,
      "outputs": [
        {
          "output_type": "stream",
          "name": "stdout",
          "text": [
            "TypeError: isnumeric() takes no arguments (1 given)\n"
          ]
        }
      ]
    },
    {
      "cell_type": "code",
      "source": [
        "string1 = '123'\n",
        "string2 = '⅓'\n",
        "string3 = '²'\n",
        "string4 = '2167' # 'Ⅷ'; ROMAN NUMERAL EIGHT\n",
        "\n",
        "print(string1.isnumeric()) # True\n",
        "print(string2.isnumeric()) # True\n",
        "print(string3.isnumeric()) # True\n",
        "print(string4.isnumeric()) # True\n",
        "\n",
        "# float validation\n",
        "number = 5.65\n",
        "str_ing = str(number)\n",
        "result = str_ing.replace('.', '', 1).isnumeric()\n",
        "print(result)"
      ],
      "metadata": {
        "colab": {
          "base_uri": "https://localhost:8080/"
        },
        "id": "XPkYiQrSyIcQ",
        "outputId": "c69e8470-3f5a-4ab4-ac81-2b9e88927dc4"
      },
      "execution_count": null,
      "outputs": [
        {
          "output_type": "stream",
          "name": "stdout",
          "text": [
            "True\n",
            "True\n",
            "True\n",
            "True\n",
            "True\n"
          ]
        }
      ]
    },
    {
      "cell_type": "code",
      "source": [
        "print(\"Coding_101\".isidentifier()) # An identifier if only consists of alphanumeric characters and underscore (_)\n",
        "print(\"Coding101\".isidentifier())\n",
        "print(\"Coding\".isidentifier())\n",
        "print(\"Coding 101\".isidentifier())\n",
        "print(\"11Coding_101\".isidentifier())  #Doesn’t start with a space or a number\n",
        "print(\" Coding_101\".isidentifier())\n",
        "print(\"Coding_#101\".isidentifier())"
      ],
      "metadata": {
        "colab": {
          "base_uri": "https://localhost:8080/"
        },
        "id": "NClhPHXM1DAu",
        "outputId": "ab216cad-d4d0-4024-bcea-bd0a90271af1"
      },
      "execution_count": null,
      "outputs": [
        {
          "output_type": "stream",
          "name": "stdout",
          "text": [
            "True\n",
            "True\n",
            "True\n",
            "False\n",
            "False\n",
            "False\n",
            "False\n"
          ]
        }
      ]
    },
    {
      "cell_type": "code",
      "source": [
        "print('My name is Ayush'.isprintable())\n",
        "print('My name is \\n Ayush'.isprintable()) #/n not printable\n",
        "print(\"\".isprintable())\n",
        "print(\" \".isprintable())"
      ],
      "metadata": {
        "colab": {
          "base_uri": "https://localhost:8080/"
        },
        "id": "ONQJZyoV3aS9",
        "outputId": "2dce004f-89f5-43a6-95a8-063754fe9be4"
      },
      "execution_count": null,
      "outputs": [
        {
          "output_type": "stream",
          "name": "stdout",
          "text": [
            "True\n",
            "False\n",
            "True\n",
            "True\n"
          ]
        }
      ]
    },
    {
      "cell_type": "markdown",
      "source": [
        "Digits ( 0123456789 ),\n",
        "Uppercase letters ( ABCDEFGHIJKLMNOPQRSTUVWXYZ ),\n",
        "Lowercase letters ( abcdefghijklmnopqrstuvwxyz ),\n",
        "Punctuation characters ( !”#$%&'()*+, -./:;?@[\\]^_`{ | }~ ),\n",
        "Space ( ) - printable"
      ],
      "metadata": {
        "id": "gPw_0C_57l7Z"
      }
    },
    {
      "cell_type": "code",
      "source": [
        "print(\"\\n \\t\".isspace()) #returns “True” if all characters in the string are whitespace characters\n",
        "print(\"m\\nu\".isspace())\n",
        "print(\" \\f\".isspace())"
      ],
      "metadata": {
        "colab": {
          "base_uri": "https://localhost:8080/"
        },
        "id": "j6uMNRQA71O9",
        "outputId": "e1bedcef-b50a-40fa-9277-a372cc0b0f1f"
      },
      "execution_count": null,
      "outputs": [
        {
          "output_type": "stream",
          "name": "stdout",
          "text": [
            "True\n",
            "False\n",
            "True\n"
          ]
        }
      ]
    },
    {
      "cell_type": "markdown",
      "source": [
        "‘ ‘ – Space,\n",
        "‘\\t’ – Horizontal tab,\n",
        "‘\\n’ – Newline,\n",
        "‘\\v’ – Vertical tab,\n",
        "‘\\f’ – Feed,\n",
        "‘\\r’ – Carriage return - whitespace characters"
      ],
      "metadata": {
        "id": "0b14NNPp8cOt"
      }
    },
    {
      "cell_type": "code",
      "source": [
        "print(\"princess\".rjust(15)) #right align, .rjust(length, fillcharacter), length of the modified string, if no fillcharacter, then space\n",
        "print(\"princess\".rjust(15, \"$\"))\n",
        "print(\"princess\".rjust(7, \"%\")) #if modified length<= actual length, returns actual string\n",
        "print(\"princess\".ljust(15))  #left align\n",
        "print(\"princess\".ljust(15, \"$\"))"
      ],
      "metadata": {
        "colab": {
          "base_uri": "https://localhost:8080/"
        },
        "id": "9ZsrtvVN8BrM",
        "outputId": "6663a159-4a3e-422d-c583-3e636e68656b"
      },
      "execution_count": null,
      "outputs": [
        {
          "output_type": "stream",
          "name": "stdout",
          "text": [
            "       princess\n",
            "$$$$$$$princess\n",
            "princess\n",
            "princess       \n",
            "princess$$$$$$$\n"
          ]
        }
      ]
    },
    {
      "cell_type": "code",
      "source": [
        "# specify to translate chars\n",
        "str1 = \"wy\"\n",
        "\n",
        "# specify to replace with\n",
        "str2 = \"gf\"\n",
        "\n",
        "# delete chars\n",
        "str3 = \"u\"\n",
        "\n",
        "# target string\n",
        "trg = \"weeksyourweeks\"\n",
        "\n",
        "# using maketrans() to\n",
        "# construct translate\n",
        "# table\n",
        "table = trg.maketrans(str1, str2, str3)\n",
        "\n",
        "# Printing original string\n",
        "print (\"The string before translating is : \", end =\"\")\n",
        "print (trg)\n",
        "\n",
        "# using translate() to make translations.\n",
        "print (\"The string after translating is : \", end =\"\")\n",
        "print (trg.translate(table))"
      ],
      "metadata": {
        "id": "0M89Yay0d_l0",
        "colab": {
          "base_uri": "https://localhost:8080/"
        },
        "outputId": "c177fb97-a6d1-4bbd-8e72-f37f73b95018"
      },
      "execution_count": null,
      "outputs": [
        {
          "output_type": "stream",
          "name": "stdout",
          "text": [
            "The string before translating is : weeksyourweeks\n",
            "The string after translating is : geeksforgeeks\n"
          ]
        }
      ]
    },
    {
      "cell_type": "markdown",
      "source": [
        "Syntax : maketrans(str1, str2, str3)\n",
        "\n",
        "Parameters :\n",
        "**str1** : Specifies the list of characters that need to be replaced.  \n",
        "**str2** : Specifies the list of characters with which the characters need to be replaced.  \n",
        "**str3** : Specifies the list of characters that needs to be deleted.\n",
        "\n",
        "Returns : Returns the translation table which specifies the conversions that can be used by translate()\n",
        "\n"
      ],
      "metadata": {
        "id": "r5oec-n9vb-a"
      }
    }
  ]
}